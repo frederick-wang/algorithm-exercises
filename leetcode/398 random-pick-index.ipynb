{
 "cells": [
  {
   "cell_type": "code",
   "execution_count": 5,
   "metadata": {},
   "outputs": [
    {
     "data": {
      "text/plain": [
       "0"
      ]
     },
     "execution_count": 5,
     "metadata": {},
     "output_type": "execute_result"
    }
   ],
   "source": [
    "from typing import List\n",
    "import random\n",
    "\n",
    "\n",
    "class Solution:\n",
    "    nums: List[int]\n",
    "\n",
    "    def __init__(self, nums: List[int]):\n",
    "        self.nums = nums\n",
    "\n",
    "    def pick(self, target: int) -> int:\n",
    "        result = 0\n",
    "        n = 0\n",
    "        for i, v in enumerate(self.nums):\n",
    "            if v == target:\n",
    "                n += 1\n",
    "                # 相当于 random.randrange(n) == 0\n",
    "                if not random.randrange(n):\n",
    "                    result = i\n",
    "        return result\n",
    "\n",
    "\n",
    "nums = [1, 2, 3, 3, 3]\n",
    "solution = Solution(nums)\n",
    "\n",
    "# pick(3) 应该返回索引 2,3 或者 4。每个索引的返回概率应该相等。\n",
    "solution.pick(3)\n",
    "\n",
    "# pick(1) 应该返回 0。因为只有 nums[0] 等于1。\n",
    "solution.pick(1)"
   ]
  },
  {
   "cell_type": "code",
   "execution_count": null,
   "metadata": {},
   "outputs": [],
   "source": [
    "from typing import Dict, List\n",
    "import random\n",
    "\n",
    "\n",
    "class Solution:\n",
    "    d: Dict[int, List[int]]\n",
    "\n",
    "    def __init__(self, nums: List[int]):\n",
    "        # 将 nums 转化为字典\n",
    "        self.d = {}\n",
    "        for i, n in enumerate(nums):\n",
    "            if n in self.d:\n",
    "                self.d[n].append(i)\n",
    "            else:\n",
    "                self.d[n] = [i]\n",
    "\n",
    "    def pick(self, target: int) -> int:\n",
    "        # d[target] 中的元素就是整数 target 在 `nums` 中的各个对应索引\n",
    "        # 随机返回 d[target] 中的一个元素\n",
    "        return random.choice(self.d[target])"
   ]
  },
  {
   "cell_type": "code",
   "execution_count": 39,
   "metadata": {},
   "outputs": [
    {
     "name": "stdout",
     "output_type": "stream",
     "text": [
      "随机选择的数字是 [1, 3]\n"
     ]
    }
   ],
   "source": [
    "from typing import Optional\n",
    "import random\n",
    "\n",
    "l = [1, 2, 3, 3, 3]\n",
    "li = iter(l)\n",
    "\n",
    "\n",
    "def getNum() -> Optional[int]:\n",
    "    try:\n",
    "        return next(li)\n",
    "    except StopIteration:\n",
    "        return None\n",
    "\n",
    "\n",
    "k = 2\n",
    "n = 0\n",
    "result: List[int] = []\n",
    "while True:\n",
    "    n += 1\n",
    "    num = getNum()\n",
    "    if num is None:\n",
    "        break\n",
    "    if n <= k:\n",
    "        result.append(num)\n",
    "    else:\n",
    "        r = random.randint(0, n - 1)\n",
    "        if r < k:\n",
    "            result[r] = num\n",
    "print(f'随机选择的数字是 {result}')"
   ]
  }
 ],
 "metadata": {
  "interpreter": {
   "hash": "73f5e7a26b3348f0e7a11b744f9bc3947d3596ae6a707359635b1f2a897b2576"
  },
  "kernelspec": {
   "display_name": "Python 3.8.12 ('py38')",
   "language": "python",
   "name": "python3"
  },
  "language_info": {
   "codemirror_mode": {
    "name": "ipython",
    "version": 3
   },
   "file_extension": ".py",
   "mimetype": "text/x-python",
   "name": "python",
   "nbconvert_exporter": "python",
   "pygments_lexer": "ipython3",
   "version": "3.8.12"
  },
  "orig_nbformat": 4
 },
 "nbformat": 4,
 "nbformat_minor": 2
}
