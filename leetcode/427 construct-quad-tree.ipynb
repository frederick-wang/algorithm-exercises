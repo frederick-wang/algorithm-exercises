{
 "cells": [
  {
   "cell_type": "code",
   "execution_count": null,
   "metadata": {},
   "outputs": [],
   "source": [
    "from typing import List\n",
    "\n",
    "\n",
    "class Node:\n",
    "\n",
    "    def __init__(self, val, isLeaf, topLeft, topRight, bottomLeft, bottomRight):\n",
    "        self.val = val\n",
    "        self.isLeaf = isLeaf\n",
    "        self.topLeft = topLeft\n",
    "        self.topRight = topRight\n",
    "        self.bottomLeft = bottomLeft\n",
    "        self.bottomRight = bottomRight\n",
    "\n",
    "\n",
    "class Solution:\n",
    "\n",
    "    def construct(self, grid: List[List[int]]) -> 'Node':\n",
    "\n",
    "        def getNode(x: int, y: int, l: int) -> 'Node':\n",
    "            if l == 1:\n",
    "                return Node(grid[x][y], 1, None, None, None, None)\n",
    "            nl = l // 2\n",
    "            tl = getNode(x, y, nl)\n",
    "            tr = getNode(x, y + nl, nl)\n",
    "            bl = getNode(x + nl, y, nl)\n",
    "            br = getNode(x + nl, y + nl, nl)\n",
    "            if tl.isLeaf and tr.isLeaf and bl.isLeaf and br.isLeaf and tl.val == tr.val == bl.val == br.val:\n",
    "                return Node(tl.val, 1, None, None, None, None)\n",
    "            return Node(1, 0, tl, tr, bl, br)\n",
    "\n",
    "        return getNode(0, 0, len(grid))\n"
   ]
  }
 ],
 "metadata": {
  "language_info": {
   "name": "python"
  },
  "orig_nbformat": 4
 },
 "nbformat": 4,
 "nbformat_minor": 2
}
