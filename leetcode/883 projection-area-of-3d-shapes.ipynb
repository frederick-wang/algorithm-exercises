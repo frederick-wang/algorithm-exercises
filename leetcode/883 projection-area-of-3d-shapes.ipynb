{
 "cells": [
  {
   "cell_type": "code",
   "execution_count": 28,
   "metadata": {},
   "outputs": [
    {
     "name": "stdout",
     "output_type": "stream",
     "text": [
      "17\n"
     ]
    }
   ],
   "source": [
    "from typing import List, Iterable, Tuple\n",
    "\n",
    "\n",
    "class Solution:\n",
    "\n",
    "    def projectionArea(self, grid: List[List[int]]) -> int:\n",
    "        # S_xy = sum(map(lambda x: len(tuple(filter(bool, x))), grid))\n",
    "        S_xy = sum(not not v for row in grid for v in row)\n",
    "        S_zx = sum(max(row) for row in grid)\n",
    "        S_yz = sum(max(row[j] for row in grid) for j in range(len(grid[0])))\n",
    "        return S_xy + S_zx + S_yz\n",
    "\n",
    "\n",
    "s = Solution()\n",
    "print(s.projectionArea([[1, 2], [3, 4]]))  # 输出 17\n"
   ]
  }
 ],
 "metadata": {
  "interpreter": {
   "hash": "73f5e7a26b3348f0e7a11b744f9bc3947d3596ae6a707359635b1f2a897b2576"
  },
  "kernelspec": {
   "display_name": "Python 3.8.12 ('py38')",
   "language": "python",
   "name": "python3"
  },
  "language_info": {
   "codemirror_mode": {
    "name": "ipython",
    "version": 3
   },
   "file_extension": ".py",
   "mimetype": "text/x-python",
   "name": "python",
   "nbconvert_exporter": "python",
   "pygments_lexer": "ipython3",
   "version": "3.8.12"
  },
  "orig_nbformat": 4
 },
 "nbformat": 4,
 "nbformat_minor": 2
}
