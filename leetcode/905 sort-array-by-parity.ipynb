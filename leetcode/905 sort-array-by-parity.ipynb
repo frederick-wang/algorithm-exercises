{
 "cells": [
  {
   "cell_type": "code",
   "execution_count": 16,
   "metadata": {},
   "outputs": [
    {
     "name": "stdout",
     "output_type": "stream",
     "text": [
      "[2, 4, 3, 1]\n",
      "[0]\n"
     ]
    }
   ],
   "source": [
    "from typing import List\n",
    "\n",
    "\n",
    "class Solution:\n",
    "\n",
    "    def sortArrayByParity(self, nums: List[int]) -> List[int]:\n",
    "        nums.sort(key=lambda x: x % 2)\n",
    "        return nums\n",
    "\n",
    "\n",
    "s = Solution()\n",
    "\n",
    "print(s.sortArrayByParity([3, 1, 2, 4]))\n",
    "# 输出：[2,4,3,1]\n",
    "# 解释：[4,2,3,1]、[2,4,1,3] 和 [4,2,1,3] 也会被视作正确答案。\n",
    "\n",
    "print(s.sortArrayByParity([0]))\n",
    "# 输出：[0]"
   ]
  },
  {
   "cell_type": "code",
   "execution_count": 21,
   "metadata": {},
   "outputs": [
    {
     "name": "stdout",
     "output_type": "stream",
     "text": [
      "[4, 2, 1, 3]\n",
      "[0]\n"
     ]
    }
   ],
   "source": [
    "class Solution:\n",
    "\n",
    "    def sortArrayByParity(self, nums: List[int]) -> List[int]:\n",
    "        even_idx = 0\n",
    "        for i in range(len(nums)):\n",
    "            if not (nums[i] & 1):\n",
    "                nums[i], nums[even_idx] = nums[even_idx], nums[i]\n",
    "                even_idx += 1\n",
    "        return nums\n",
    "\n",
    "\n",
    "s = Solution()\n",
    "\n",
    "print(s.sortArrayByParity([3, 1, 2, 4]))\n",
    "# 输出：[2,4,3,1]\n",
    "# 解释：[4,2,3,1]、[2,4,1,3] 和 [4,2,1,3] 也会被视作正确答案。\n",
    "\n",
    "print(s.sortArrayByParity([0]))\n",
    "# 输出：[0]"
   ]
  },
  {
   "cell_type": "code",
   "execution_count": null,
   "metadata": {},
   "outputs": [],
   "source": [
    "class Solution:\n",
    "\n",
    "    def sortArrayByParity(self, nums: List[int]) -> List[int]:\n",
    "        # 存放结果的 List\n",
    "        result: List[int] = []\n",
    "        # 第一次遍历：把 nums 中的偶数加到 result 中\n",
    "        for n in nums:\n",
    "            if not (n % 2):\n",
    "                result.append(n)\n",
    "        # 第二次遍历：把 nums 中的奇数加到 result 中\n",
    "        for n in nums:\n",
    "            if n % 2:\n",
    "                result.append(n)\n",
    "        return result\n",
    "\n",
    "\n",
    "s = Solution()\n",
    "\n",
    "print(s.sortArrayByParity([3, 1, 2, 4]))\n",
    "# 输出：[2,4,3,1]\n",
    "# 解释：[4,2,3,1]、[2,4,1,3] 和 [4,2,1,3] 也会被视作正确答案。\n",
    "\n",
    "print(s.sortArrayByParity([0]))\n",
    "# 输出：[0]"
   ]
  }
 ],
 "metadata": {
  "interpreter": {
   "hash": "73f5e7a26b3348f0e7a11b744f9bc3947d3596ae6a707359635b1f2a897b2576"
  },
  "kernelspec": {
   "display_name": "Python 3.8.12 ('py38')",
   "language": "python",
   "name": "python3"
  },
  "language_info": {
   "codemirror_mode": {
    "name": "ipython",
    "version": 3
   },
   "file_extension": ".py",
   "mimetype": "text/x-python",
   "name": "python",
   "nbconvert_exporter": "python",
   "pygments_lexer": "ipython3",
   "version": "3.8.12"
  },
  "orig_nbformat": 4
 },
 "nbformat": 4,
 "nbformat_minor": 2
}
